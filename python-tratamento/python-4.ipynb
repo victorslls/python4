{
 "cells": [
  {
   "cell_type": "code",
   "execution_count": 10,
   "metadata": {},
   "outputs": [
    {
     "name": "stdout",
     "output_type": "stream",
     "text": [
      "Hello,world!\n"
     ]
    }
   ],
   "source": [
    "print(\"Hello,world!\")"
   ]
  },
  {
   "cell_type": "code",
   "execution_count": 11,
   "metadata": {},
   "outputs": [],
   "source": [
    "name = \"Bernardo\""
   ]
  },
  {
   "cell_type": "code",
   "execution_count": 12,
   "metadata": {},
   "outputs": [],
   "source": [
    "age = 23"
   ]
  },
  {
   "cell_type": "code",
   "execution_count": 13,
   "metadata": {},
   "outputs": [],
   "source": [
    "dev = True\n",
    "#boolean"
   ]
  },
  {
   "cell_type": "code",
   "execution_count": 14,
   "metadata": {},
   "outputs": [
    {
     "data": {
      "text/plain": [
       "str"
      ]
     },
     "execution_count": 14,
     "metadata": {},
     "output_type": "execute_result"
    }
   ],
   "source": [
    "type(name)"
   ]
  },
  {
   "cell_type": "code",
   "execution_count": 15,
   "metadata": {},
   "outputs": [
    {
     "data": {
      "text/plain": [
       "int"
      ]
     },
     "execution_count": 15,
     "metadata": {},
     "output_type": "execute_result"
    }
   ],
   "source": [
    "type(age)"
   ]
  },
  {
   "cell_type": "code",
   "execution_count": 16,
   "metadata": {},
   "outputs": [
    {
     "data": {
      "text/plain": [
       "bool"
      ]
     },
     "execution_count": 16,
     "metadata": {},
     "output_type": "execute_result"
    }
   ],
   "source": [
    "type(dev)"
   ]
  },
  {
   "cell_type": "code",
   "execution_count": 17,
   "metadata": {},
   "outputs": [],
   "source": [
    "height = 1.75"
   ]
  },
  {
   "cell_type": "code",
   "execution_count": 18,
   "metadata": {},
   "outputs": [
    {
     "data": {
      "text/plain": [
       "float"
      ]
     },
     "execution_count": 18,
     "metadata": {},
     "output_type": "execute_result"
    }
   ],
   "source": [
    "type(height)"
   ]
  },
  {
   "cell_type": "code",
   "execution_count": null,
   "metadata": {},
   "outputs": [],
   "source": [
    "#Operações com variáveis "
   ]
  },
  {
   "cell_type": "code",
   "execution_count": 19,
   "metadata": {},
   "outputs": [
    {
     "name": "stdout",
     "output_type": "stream",
     "text": [
      "Bernardo\n"
     ]
    }
   ],
   "source": [
    "print(name)"
   ]
  },
  {
   "cell_type": "code",
   "execution_count": null,
   "metadata": {},
   "outputs": [],
   "source": [
    "\n",
    "quantidade  = [1,2,6,4,9]\n"
   ]
  },
  {
   "cell_type": "code",
   "execution_count": 4,
   "metadata": {},
   "outputs": [
    {
     "name": "stdout",
     "output_type": "stream",
     "text": [
      "seu númeroescolhido foi 2\n"
     ]
    }
   ],
   "source": [
    "#pedir o numero\n",
    "\n",
    "firstNumber = int (input(\"Digite um numero\"))\n",
    "\n",
    "\n",
    "print(\"seu númeroescolhido foi\", firstNumber )"
   ]
  },
  {
   "cell_type": "markdown",
   "metadata": {},
   "source": [
    "#pede dois numeros\n",
    "\n",
    "#imprimir a soma"
   ]
  },
  {
   "cell_type": "code",
   "execution_count": 8,
   "metadata": {},
   "outputs": [
    {
     "name": "stdout",
     "output_type": "stream",
     "text": [
      "esse é o resultado 3\n"
     ]
    }
   ],
   "source": [
    "number1 = int (input('Digite o primeiro número'))\n",
    "number2 = int (input(\"digite o segundo número\"))\n",
    "\n",
    "sum = (number1 + number2)\n",
    "\n",
    "print(\"esse é o resultado\",  sum)"
   ]
  },
  {
   "cell_type": "code",
   "execution_count": 11,
   "metadata": {},
   "outputs": [
    {
     "name": "stdout",
     "output_type": "stream",
     "text": [
      "[1, 2, 4, 6, 7]\n"
     ]
    }
   ],
   "source": []
  },
  {
   "cell_type": "markdown",
   "metadata": {},
   "source": [
    "#quanto ganhar por hora \n",
    "#o numero de horas trabalhadas no mes\n",
    "\n",
    "#calcule o total do seu salario no ferido mes"
   ]
  },
  {
   "cell_type": "code",
   "execution_count": 33,
   "metadata": {},
   "outputs": [
    {
     "name": "stdout",
     "output_type": "stream",
     "text": [
      "o valor da multa é 156 reais\n",
      "o valor da multa é    156 reais\n"
     ]
    }
   ],
   "source": [
    "pesoDoPeixe = int (input('Peso do peixe'))\n",
    "\n",
    "\n",
    "execesso =  (pesoDoPeixe - 50 )\n",
    "\n",
    "multa = execesso * 4\n",
    "\n",
    "if pesoDoPeixe<= 50 :\n",
    "    print(\"essa quantidade é permitidade\")\n",
    "else:\n",
    "    print('o valor da multa é', multa, \"reais\")\n",
    "\n",
    "\n",
    "\n",
    "print(\"essa quantiade é permitidade\" if pesoDoPeixe <= 50  else \"o valor da multa é   \", multa, 'reais' )\n",
    "\n"
   ]
  },
  {
   "cell_type": "markdown",
   "metadata": {},
   "source": [
    "#valorEstabelecido = 50\n",
    "#multa = 4,00 por quilo\n",
    "#ler a variavel do peso do peixe e calcule o execess o\n",
    "\n",
    "#gravar a variavel execesso a quantaidade de quilos além do limite e na\n",
    " variável multa o valor da multa que joão deverá pagar.\n",
    " imprima os dados do programa com as mensagens para alerta joão\n"
   ]
  },
  {
   "cell_type": "markdown",
   "metadata": {},
   "source": []
  },
  {
   "cell_type": "code",
   "execution_count": 18,
   "metadata": {},
   "outputs": [
    {
     "name": "stdout",
     "output_type": "stream",
     "text": [
      "5.0\n"
     ]
    }
   ],
   "source": [
    "nota1 = int (input('valor da nota 1'))\n",
    "nota2 = int (input('valor da nota 2'))\n",
    "nota3 = int (input('valor da nota 3'))\n",
    "\n",
    "soma = (nota1 + nota2 + nota3)\n",
    " \n",
    "média = (soma / 3)\n",
    "\n",
    "print(média)"
   ]
  },
  {
   "cell_type": "code",
   "execution_count": 23,
   "metadata": {},
   "outputs": [
    {
     "name": "stdout",
     "output_type": "stream",
     "text": [
      "o valor total do calculo do salário é: 4400\n"
     ]
    }
   ],
   "source": [
    "valorHora = int (input('quanto é o seu valor hora'))\n",
    "horasDoDia= int (input('quantas horas trabalhadas'))\n",
    "diasTrabalhado = int (input('quantos dias trabalhados'))\n",
    "total = (valorHora * horasDoDia * diasTrabalhado )\n",
    "\n",
    "print('o valor total do calculo do salário é:', total)"
   ]
  }
 ],
 "metadata": {
  "kernelspec": {
   "display_name": "Python 3",
   "language": "python",
   "name": "python3"
  },
  "language_info": {
   "codemirror_mode": {
    "name": "ipython",
    "version": 3
   },
   "file_extension": ".py",
   "mimetype": "text/x-python",
   "name": "python",
   "nbconvert_exporter": "python",
   "pygments_lexer": "ipython3",
   "version": "3.11.9"
  }
 },
 "nbformat": 4,
 "nbformat_minor": 2
}
